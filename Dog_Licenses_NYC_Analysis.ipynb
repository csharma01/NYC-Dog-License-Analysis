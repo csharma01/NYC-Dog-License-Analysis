{
 "cells": [
  {
   "cell_type": "code",
   "execution_count": 1,
   "id": "35121f08-8155-4d23-9544-1448171e18e0",
   "metadata": {},
   "outputs": [],
   "source": [
    "import pandas as pd\n",
    "import seaborn as sns\n",
    "import matplotlib.pyplot as plt"
   ]
  },
  {
   "cell_type": "code",
   "execution_count": 2,
   "id": "adc8aa37-960f-4fbb-9b9e-552465589c11",
   "metadata": {},
   "outputs": [
    {
     "name": "stderr",
     "output_type": "stream",
     "text": [
      "C:\\Users\\cshar\\AppData\\Local\\Temp\\ipykernel_21020\\421662572.py:1: DtypeWarning: Columns (2) have mixed types. Specify dtype option on import or set low_memory=False.\n",
      "  dog_data = pd.read_csv('NYC_Dog_Licensing_Dataset_20241105.csv')\n"
     ]
    },
    {
     "data": {
      "text/html": [
       "<div>\n",
       "<style scoped>\n",
       "    .dataframe tbody tr th:only-of-type {\n",
       "        vertical-align: middle;\n",
       "    }\n",
       "\n",
       "    .dataframe tbody tr th {\n",
       "        vertical-align: top;\n",
       "    }\n",
       "\n",
       "    .dataframe thead th {\n",
       "        text-align: right;\n",
       "    }\n",
       "</style>\n",
       "<table border=\"1\" class=\"dataframe\">\n",
       "  <thead>\n",
       "    <tr style=\"text-align: right;\">\n",
       "      <th></th>\n",
       "      <th>AnimalName</th>\n",
       "      <th>AnimalGender</th>\n",
       "      <th>AnimalBirthYear</th>\n",
       "      <th>BreedName</th>\n",
       "      <th>ZipCode</th>\n",
       "      <th>LicenseIssuedDate</th>\n",
       "      <th>LicenseExpiredDate</th>\n",
       "      <th>Extract Year</th>\n",
       "    </tr>\n",
       "  </thead>\n",
       "  <tbody>\n",
       "    <tr>\n",
       "      <th>0</th>\n",
       "      <td>PAIGE</td>\n",
       "      <td>F</td>\n",
       "      <td>2014</td>\n",
       "      <td>American Pit Bull Mix / Pit Bull Mix</td>\n",
       "      <td>10035.0</td>\n",
       "      <td>09-12-2014</td>\n",
       "      <td>09-12-2017</td>\n",
       "      <td>2016</td>\n",
       "    </tr>\n",
       "    <tr>\n",
       "      <th>1</th>\n",
       "      <td>YOGI</td>\n",
       "      <td>M</td>\n",
       "      <td>2010</td>\n",
       "      <td>Boxer</td>\n",
       "      <td>10465.0</td>\n",
       "      <td>09-12-2014</td>\n",
       "      <td>10-02-2017</td>\n",
       "      <td>2016</td>\n",
       "    </tr>\n",
       "    <tr>\n",
       "      <th>2</th>\n",
       "      <td>ALI</td>\n",
       "      <td>M</td>\n",
       "      <td>2014</td>\n",
       "      <td>Basenji</td>\n",
       "      <td>10013.0</td>\n",
       "      <td>09-12-2014</td>\n",
       "      <td>09-12-2019</td>\n",
       "      <td>2016</td>\n",
       "    </tr>\n",
       "    <tr>\n",
       "      <th>3</th>\n",
       "      <td>QUEEN</td>\n",
       "      <td>F</td>\n",
       "      <td>2013</td>\n",
       "      <td>Akita Crossbreed</td>\n",
       "      <td>10013.0</td>\n",
       "      <td>09-12-2014</td>\n",
       "      <td>09-12-2017</td>\n",
       "      <td>2016</td>\n",
       "    </tr>\n",
       "    <tr>\n",
       "      <th>4</th>\n",
       "      <td>LOLA</td>\n",
       "      <td>F</td>\n",
       "      <td>2009</td>\n",
       "      <td>Maltese</td>\n",
       "      <td>10028.0</td>\n",
       "      <td>09-12-2014</td>\n",
       "      <td>10-09-2017</td>\n",
       "      <td>2016</td>\n",
       "    </tr>\n",
       "  </tbody>\n",
       "</table>\n",
       "</div>"
      ],
      "text/plain": [
       "  AnimalName AnimalGender AnimalBirthYear  \\\n",
       "0      PAIGE            F            2014   \n",
       "1       YOGI            M            2010   \n",
       "2        ALI            M            2014   \n",
       "3      QUEEN            F            2013   \n",
       "4       LOLA            F            2009   \n",
       "\n",
       "                              BreedName  ZipCode LicenseIssuedDate  \\\n",
       "0  American Pit Bull Mix / Pit Bull Mix  10035.0        09-12-2014   \n",
       "1                                 Boxer  10465.0        09-12-2014   \n",
       "2                               Basenji  10013.0        09-12-2014   \n",
       "3                      Akita Crossbreed  10013.0        09-12-2014   \n",
       "4                               Maltese  10028.0        09-12-2014   \n",
       "\n",
       "  LicenseExpiredDate  Extract Year  \n",
       "0         09-12-2017          2016  \n",
       "1         10-02-2017          2016  \n",
       "2         09-12-2019          2016  \n",
       "3         09-12-2017          2016  \n",
       "4         10-09-2017          2016  "
      ]
     },
     "execution_count": 2,
     "metadata": {},
     "output_type": "execute_result"
    }
   ],
   "source": [
    "dog_data = pd.read_csv('NYC_Dog_Licensing_Dataset_20241105.csv')\n",
    "dog_data.head()"
   ]
  },
  {
   "cell_type": "code",
   "execution_count": 3,
   "id": "4c6f3d37-2cb1-496d-a48d-ed31339123e4",
   "metadata": {},
   "outputs": [
    {
     "name": "stdout",
     "output_type": "stream",
     "text": [
      "AnimalName              1387\n",
      "AnimalGender              21\n",
      "AnimalBirthYear           30\n",
      "BreedName                  0\n",
      "ZipCode                    9\n",
      "LicenseIssuedDate     370485\n",
      "LicenseExpiredDate    389919\n",
      "Extract Year               0\n",
      "dtype: int64\n"
     ]
    }
   ],
   "source": [
    "#Data Cleaning\n",
    "#fixing the warning Pandas gave us by specifying the AnimalBirth column as a string, we will later convert it\n",
    "dog_data = pd.read_csv('NYC_Dog_Licensing_Dataset_20241105.csv', dtype={'AnimalBirthYear': 'str'}, low_memory=False)\n",
    "\n",
    "#Converting the dates into Pandas Datetime format\n",
    "dog_data['LicenseIssuedDate'] = pd.to_datetime(dog_data['LicenseIssuedDate'], errors='coerce')\n",
    "dog_data['LicenseExpiredDate'] = pd.to_datetime(dog_data['LicenseExpiredDate'], errors='coerce')\n",
    "\n",
    "#converting AnimalBirthYear to integer and setting any problematic value to NaN using 'coerce'\n",
    "dog_data['AnimalBirthYear'] = pd.to_numeric(dog_data['AnimalBirthYear'], errors='coerce')\n",
    "\n",
    "#exploring the total missing values in each column\n",
    "print(dog_data.isnull().sum())"
   ]
  },
  {
   "cell_type": "code",
   "execution_count": 4,
   "id": "5da9bee7-9e03-41ff-9ad8-ae61f67bfaaf",
   "metadata": {},
   "outputs": [
    {
     "data": {
      "text/plain": [
       "AnimalName            498\n",
       "AnimalGender            0\n",
       "AnimalBirthYear         9\n",
       "BreedName               0\n",
       "ZipCode                 0\n",
       "LicenseIssuedDate       0\n",
       "LicenseExpiredDate      0\n",
       "Extract Year            0\n",
       "dtype: int64"
      ]
     },
     "execution_count": 4,
     "metadata": {},
     "output_type": "execute_result"
    }
   ],
   "source": [
    "# I have chosen to drop the missing values\n",
    "dog_data.dropna(subset=['LicenseIssuedDate', 'LicenseExpiredDate'], inplace=True)\n",
    "dog_data.dropna(subset=['AnimalGender'], inplace=True)\n",
    "dog_data.dropna(subset=['ZipCode'], inplace=True)\n",
    "\n",
    "dog_data.isnull().sum()"
   ]
  },
  {
   "cell_type": "code",
   "execution_count": 5,
   "id": "ff6ab64d-e74e-4b2e-8b0e-16cf2d4d2cfc",
   "metadata": {},
   "outputs": [
    {
     "name": "stderr",
     "output_type": "stream",
     "text": [
      "C:\\Users\\cshar\\AppData\\Local\\Temp\\ipykernel_21020\\1515028959.py:2: FutureWarning: A value is trying to be set on a copy of a DataFrame or Series through chained assignment using an inplace method.\n",
      "The behavior will change in pandas 3.0. This inplace method will never work because the intermediate object on which we are setting values always behaves as a copy.\n",
      "\n",
      "For example, when doing 'df[col].method(value, inplace=True)', try using 'df.method({col: value}, inplace=True)' or df[col] = df[col].method(value) instead, to perform the operation inplace on the original object.\n",
      "\n",
      "\n",
      "  dog_data['AnimalName'].fillna('Unknown', inplace=True)\n"
     ]
    },
    {
     "data": {
      "text/plain": [
       "AnimalName            0\n",
       "AnimalGender          0\n",
       "AnimalBirthYear       0\n",
       "BreedName             0\n",
       "ZipCode               0\n",
       "LicenseIssuedDate     0\n",
       "LicenseExpiredDate    0\n",
       "Extract Year          0\n",
       "dtype: int64"
      ]
     },
     "execution_count": 5,
     "metadata": {},
     "output_type": "execute_result"
    }
   ],
   "source": [
    "#Converting the missing values with an 'unknown' value\n",
    "dog_data['AnimalName'].fillna('Unknown', inplace=True)\n",
    "\n",
    "# dropping the few birth year values\n",
    "dog_data.dropna(subset=['AnimalBirthYear'], inplace=True)\n",
    "\n",
    "dog_data.isnull().sum()"
   ]
  },
  {
   "cell_type": "code",
   "execution_count": 6,
   "id": "2283ae57-d060-4907-8eb9-8e1f3b5b84e8",
   "metadata": {
    "editable": true,
    "slideshow": {
     "slide_type": ""
    },
    "tags": []
   },
   "outputs": [
    {
     "data": {
      "text/html": [
       "<div>\n",
       "<style scoped>\n",
       "    .dataframe tbody tr th:only-of-type {\n",
       "        vertical-align: middle;\n",
       "    }\n",
       "\n",
       "    .dataframe tbody tr th {\n",
       "        vertical-align: top;\n",
       "    }\n",
       "\n",
       "    .dataframe thead th {\n",
       "        text-align: right;\n",
       "    }\n",
       "</style>\n",
       "<table border=\"1\" class=\"dataframe\">\n",
       "  <thead>\n",
       "    <tr style=\"text-align: right;\">\n",
       "      <th></th>\n",
       "      <th>AnimalBirthYear</th>\n",
       "      <th>ZipCode</th>\n",
       "      <th>LicenseIssuedDate</th>\n",
       "      <th>LicenseExpiredDate</th>\n",
       "      <th>Extract Year</th>\n",
       "      <th>LicenseIssuedYear</th>\n",
       "      <th>AgeAtLicenseIssuance</th>\n",
       "    </tr>\n",
       "  </thead>\n",
       "  <tbody>\n",
       "    <tr>\n",
       "      <th>count</th>\n",
       "      <td>152411.000000</td>\n",
       "      <td>152411.000000</td>\n",
       "      <td>152411</td>\n",
       "      <td>152411</td>\n",
       "      <td>152411.000000</td>\n",
       "      <td>152411.000000</td>\n",
       "      <td>152411.000000</td>\n",
       "    </tr>\n",
       "    <tr>\n",
       "      <th>mean</th>\n",
       "      <td>2015.403862</td>\n",
       "      <td>10712.539088</td>\n",
       "      <td>2019-07-31 15:59:01.988439296</td>\n",
       "      <td>2021-01-10 18:07:36.203292416</td>\n",
       "      <td>2020.194238</td>\n",
       "      <td>2019.118213</td>\n",
       "      <td>3.714351</td>\n",
       "    </tr>\n",
       "    <tr>\n",
       "      <th>min</th>\n",
       "      <td>1912.000000</td>\n",
       "      <td>100.000000</td>\n",
       "      <td>2014-09-12 00:00:00</td>\n",
       "      <td>2016-01-01 00:00:00</td>\n",
       "      <td>2016.000000</td>\n",
       "      <td>2014.000000</td>\n",
       "      <td>-1.000000</td>\n",
       "    </tr>\n",
       "    <tr>\n",
       "      <th>25%</th>\n",
       "      <td>2012.000000</td>\n",
       "      <td>10031.000000</td>\n",
       "      <td>2017-09-09 00:00:00</td>\n",
       "      <td>2019-01-03 00:00:00</td>\n",
       "      <td>2017.000000</td>\n",
       "      <td>2017.000000</td>\n",
       "      <td>1.000000</td>\n",
       "    </tr>\n",
       "    <tr>\n",
       "      <th>50%</th>\n",
       "      <td>2016.000000</td>\n",
       "      <td>10472.000000</td>\n",
       "      <td>2019-11-02 00:00:00</td>\n",
       "      <td>2021-02-12 00:00:00</td>\n",
       "      <td>2022.000000</td>\n",
       "      <td>2019.000000</td>\n",
       "      <td>2.000000</td>\n",
       "    </tr>\n",
       "    <tr>\n",
       "      <th>75%</th>\n",
       "      <td>2019.000000</td>\n",
       "      <td>11226.000000</td>\n",
       "      <td>2021-04-03 00:00:00</td>\n",
       "      <td>2022-11-06 00:00:00</td>\n",
       "      <td>2022.000000</td>\n",
       "      <td>2021.000000</td>\n",
       "      <td>6.000000</td>\n",
       "    </tr>\n",
       "    <tr>\n",
       "      <th>max</th>\n",
       "      <td>2023.000000</td>\n",
       "      <td>99508.000000</td>\n",
       "      <td>2023-11-01 00:00:00</td>\n",
       "      <td>2033-08-11 00:00:00</td>\n",
       "      <td>2023.000000</td>\n",
       "      <td>2023.000000</td>\n",
       "      <td>110.000000</td>\n",
       "    </tr>\n",
       "    <tr>\n",
       "      <th>std</th>\n",
       "      <td>4.542752</td>\n",
       "      <td>1161.362119</td>\n",
       "      <td>NaN</td>\n",
       "      <td>NaN</td>\n",
       "      <td>2.733206</td>\n",
       "      <td>2.285638</td>\n",
       "      <td>3.890732</td>\n",
       "    </tr>\n",
       "  </tbody>\n",
       "</table>\n",
       "</div>"
      ],
      "text/plain": [
       "       AnimalBirthYear        ZipCode              LicenseIssuedDate  \\\n",
       "count    152411.000000  152411.000000                         152411   \n",
       "mean       2015.403862   10712.539088  2019-07-31 15:59:01.988439296   \n",
       "min        1912.000000     100.000000            2014-09-12 00:00:00   \n",
       "25%        2012.000000   10031.000000            2017-09-09 00:00:00   \n",
       "50%        2016.000000   10472.000000            2019-11-02 00:00:00   \n",
       "75%        2019.000000   11226.000000            2021-04-03 00:00:00   \n",
       "max        2023.000000   99508.000000            2023-11-01 00:00:00   \n",
       "std           4.542752    1161.362119                            NaN   \n",
       "\n",
       "                  LicenseExpiredDate   Extract Year  LicenseIssuedYear  \\\n",
       "count                         152411  152411.000000      152411.000000   \n",
       "mean   2021-01-10 18:07:36.203292416    2020.194238        2019.118213   \n",
       "min              2016-01-01 00:00:00    2016.000000        2014.000000   \n",
       "25%              2019-01-03 00:00:00    2017.000000        2017.000000   \n",
       "50%              2021-02-12 00:00:00    2022.000000        2019.000000   \n",
       "75%              2022-11-06 00:00:00    2022.000000        2021.000000   \n",
       "max              2033-08-11 00:00:00    2023.000000        2023.000000   \n",
       "std                              NaN       2.733206           2.285638   \n",
       "\n",
       "       AgeAtLicenseIssuance  \n",
       "count         152411.000000  \n",
       "mean               3.714351  \n",
       "min               -1.000000  \n",
       "25%                1.000000  \n",
       "50%                2.000000  \n",
       "75%                6.000000  \n",
       "max              110.000000  \n",
       "std                3.890732  "
      ]
     },
     "execution_count": 6,
     "metadata": {},
     "output_type": "execute_result"
    }
   ],
   "source": [
    "#Adding a column for dog's age when the license was first issued for it\n",
    "\n",
    "# Extracting the year from 'LicenseIssuedDate'\n",
    "dog_data['LicenseIssuedYear'] = dog_data['LicenseIssuedDate'].dt.year\n",
    "\n",
    "dog_data['AgeAtLicenseIssuance'] = dog_data['LicenseIssuedYear'] - dog_data['AnimalBirthYear']\n",
    "\n",
    "#basic statistics on the dogs dataset\n",
    "dog_data.describe()"
   ]
  },
  {
   "cell_type": "code",
   "execution_count": 22,
   "id": "e1c8a8c1-e8b3-4e81-b3d6-b79197385c27",
   "metadata": {},
   "outputs": [
    {
     "data": {
      "image/png": "[encoded data removed]",
      "text/plain": [
       "<Figure size 1000x600 with 1 Axes>"
      ]
     },
     "metadata": {},
     "output_type": "display_data"
    }
   ],
   "source": [
    "#Filtering out the outliers from the age by setting a max realistic for dogs as 25\n",
    "dog_data = dog_data[(dog_data['AgeAtLicenseIssuance'] >= 0) & (dog_data['AgeAtLicenseIssuance'] <= 25)]\n",
    "\n",
    "#Plot 1: Histogram of dog ages at license issuance\n",
    "plt.figure(figsize=(10, 6))\n",
    "sns.histplot(dog_data['AgeAtLicenseIssuance'], bins=20)\n",
    "plt.title('Distribution of Dog Ages at License Issuance')\n",
    "plt.xlabel('Age at License Issuance')\n",
    "plt.ylabel('Number of Dogs')\n",
    "plt.show()\n"
   ]
  },
  {
   "cell_type": "code",
   "execution_count": 38,
   "id": "fde9a85a-5e83-4261-a93a-4d5c38b45d55",
   "metadata": {},
   "outputs": [
    {
     "data": {
      "image/png": "[encoded data removed]",
      "text/plain": [
       "<Figure size 1000x600 with 1 Axes>"
      ]
     },
     "metadata": {},
     "output_type": "display_data"
    }
   ],
   "source": [
    "annual_licenses = dog_data['Extract Year'].value_counts().sort_index()\n",
    "\n",
    "#Plot 2: Line plot for licenses issued each year\n",
    "plt.figure(figsize=(10, 6))\n",
    "sns.lineplot(x=annual_licenses.index, y=annual_licenses.values)\n",
    "plt.title('Annual Dog Licensing Trends')\n",
    "plt.xlabel('Year')\n",
    "plt.ylabel('Number of Licenses Issued')\n",
    "plt.grid(True)\n",
    "plt.show()"
   ]
  },
  {
   "cell_type": "code",
   "execution_count": null,
   "id": "a9b7ba13-0417-4bbb-9d07-eef4d7d1a327",
   "metadata": {},
   "outputs": [],
   "source": []
  }
 ],
 "metadata": {
  "kernelspec": {
   "display_name": "Python 3 (ipykernel)",
   "language": "python",
   "name": "python3"
  },
  "language_info": {
   "codemirror_mode": {
    "name": "ipython",
    "version": 3
   },
   "file_extension": ".py",
   "mimetype": "text/x-python",
   "name": "python",
   "nbconvert_exporter": "python",
   "pygments_lexer": "ipython3",
   "version": "3.12.7"
  }
 },
 "nbformat": 4,
 "nbformat_minor": 5
}
