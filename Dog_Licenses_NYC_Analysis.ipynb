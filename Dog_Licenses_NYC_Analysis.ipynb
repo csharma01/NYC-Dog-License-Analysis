{
 "cells": [
  {
   "cell_type": "code",
   "execution_count": 6,
   "id": "35121f08-8155-4d23-9544-1448171e18e0",
   "metadata": {},
   "outputs": [],
   "source": [
    "import pandas as pd\n",
    "import seaborn as sns\n",
    "import matplotlib.pyplot as plt"
   ]
  },
  {
   "cell_type": "code",
   "execution_count": 8,
   "id": "adc8aa37-960f-4fbb-9b9e-552465589c11",
   "metadata": {},
   "outputs": [
    {
     "name": "stderr",
     "output_type": "stream",
     "text": [
      "C:\\Users\\cshar\\AppData\\Local\\Temp\\ipykernel_13176\\421662572.py:1: DtypeWarning: Columns (2) have mixed types. Specify dtype option on import or set low_memory=False.\n",
      "  dog_data = pd.read_csv('NYC_Dog_Licensing_Dataset_20241105.csv')\n"
     ]
    },
    {
     "data": {
      "text/html": [
       "<div>\n",
       "<style scoped>\n",
       "    .dataframe tbody tr th:only-of-type {\n",
       "        vertical-align: middle;\n",
       "    }\n",
       "\n",
       "    .dataframe tbody tr th {\n",
       "        vertical-align: top;\n",
       "    }\n",
       "\n",
       "    .dataframe thead th {\n",
       "        text-align: right;\n",
       "    }\n",
       "</style>\n",
       "<table border=\"1\" class=\"dataframe\">\n",
       "  <thead>\n",
       "    <tr style=\"text-align: right;\">\n",
       "      <th></th>\n",
       "      <th>AnimalName</th>\n",
       "      <th>AnimalGender</th>\n",
       "      <th>AnimalBirthYear</th>\n",
       "      <th>BreedName</th>\n",
       "      <th>ZipCode</th>\n",
       "      <th>LicenseIssuedDate</th>\n",
       "      <th>LicenseExpiredDate</th>\n",
       "      <th>Extract Year</th>\n",
       "    </tr>\n",
       "  </thead>\n",
       "  <tbody>\n",
       "    <tr>\n",
       "      <th>0</th>\n",
       "      <td>PAIGE</td>\n",
       "      <td>F</td>\n",
       "      <td>2014</td>\n",
       "      <td>American Pit Bull Mix / Pit Bull Mix</td>\n",
       "      <td>10035.0</td>\n",
       "      <td>09-12-2014</td>\n",
       "      <td>09-12-2017</td>\n",
       "      <td>2016</td>\n",
       "    </tr>\n",
       "    <tr>\n",
       "      <th>1</th>\n",
       "      <td>YOGI</td>\n",
       "      <td>M</td>\n",
       "      <td>2010</td>\n",
       "      <td>Boxer</td>\n",
       "      <td>10465.0</td>\n",
       "      <td>09-12-2014</td>\n",
       "      <td>10-02-2017</td>\n",
       "      <td>2016</td>\n",
       "    </tr>\n",
       "    <tr>\n",
       "      <th>2</th>\n",
       "      <td>ALI</td>\n",
       "      <td>M</td>\n",
       "      <td>2014</td>\n",
       "      <td>Basenji</td>\n",
       "      <td>10013.0</td>\n",
       "      <td>09-12-2014</td>\n",
       "      <td>09-12-2019</td>\n",
       "      <td>2016</td>\n",
       "    </tr>\n",
       "    <tr>\n",
       "      <th>3</th>\n",
       "      <td>QUEEN</td>\n",
       "      <td>F</td>\n",
       "      <td>2013</td>\n",
       "      <td>Akita Crossbreed</td>\n",
       "      <td>10013.0</td>\n",
       "      <td>09-12-2014</td>\n",
       "      <td>09-12-2017</td>\n",
       "      <td>2016</td>\n",
       "    </tr>\n",
       "    <tr>\n",
       "      <th>4</th>\n",
       "      <td>LOLA</td>\n",
       "      <td>F</td>\n",
       "      <td>2009</td>\n",
       "      <td>Maltese</td>\n",
       "      <td>10028.0</td>\n",
       "      <td>09-12-2014</td>\n",
       "      <td>10-09-2017</td>\n",
       "      <td>2016</td>\n",
       "    </tr>\n",
       "  </tbody>\n",
       "</table>\n",
       "</div>"
      ],
      "text/plain": [
       "  AnimalName AnimalGender AnimalBirthYear  \\\n",
       "0      PAIGE            F            2014   \n",
       "1       YOGI            M            2010   \n",
       "2        ALI            M            2014   \n",
       "3      QUEEN            F            2013   \n",
       "4       LOLA            F            2009   \n",
       "\n",
       "                              BreedName  ZipCode LicenseIssuedDate  \\\n",
       "0  American Pit Bull Mix / Pit Bull Mix  10035.0        09-12-2014   \n",
       "1                                 Boxer  10465.0        09-12-2014   \n",
       "2                               Basenji  10013.0        09-12-2014   \n",
       "3                      Akita Crossbreed  10013.0        09-12-2014   \n",
       "4                               Maltese  10028.0        09-12-2014   \n",
       "\n",
       "  LicenseExpiredDate  Extract Year  \n",
       "0         09-12-2017          2016  \n",
       "1         10-02-2017          2016  \n",
       "2         09-12-2019          2016  \n",
       "3         09-12-2017          2016  \n",
       "4         10-09-2017          2016  "
      ]
     },
     "execution_count": 8,
     "metadata": {},
     "output_type": "execute_result"
    }
   ],
   "source": [
    "dog_data = pd.read_csv('NYC_Dog_Licensing_Dataset_20241105.csv')\n",
    "dog_data.head()"
   ]
  },
  {
   "cell_type": "code",
   "execution_count": 19,
   "id": "4c6f3d37-2cb1-496d-a48d-ed31339123e4",
   "metadata": {},
   "outputs": [
    {
     "name": "stdout",
     "output_type": "stream",
     "text": [
      "AnimalName              1387\n",
      "AnimalGender              21\n",
      "AnimalBirthYear           30\n",
      "BreedName                  0\n",
      "ZipCode                    9\n",
      "LicenseIssuedDate     370485\n",
      "LicenseExpiredDate    389919\n",
      "Extract Year               0\n",
      "dtype: int64\n"
     ]
    }
   ],
   "source": [
    "#Data Cleaning\n",
    "#fixing the warning Pandas gave us by specifying the AnimalBirth column as a string, we will later convert it\n",
    "dog_data = pd.read_csv('NYC_Dog_Licensing_Dataset_20241105.csv', dtype={'AnimalBirthYear': 'str'}, low_memory=False)\n",
    "\n",
    "#Converting the dates into Pandas Datetime format\n",
    "dog_data['LicenseIssuedDate'] = pd.to_datetime(dog_data['LicenseIssuedDate'], errors='coerce')\n",
    "dog_data['LicenseExpiredDate'] = pd.to_datetime(dog_data['LicenseExpiredDate'], errors='coerce')\n",
    "\n",
    "#converting AnimalBirthYear to integer and setting any problematic value to NaN using 'coerce'\n",
    "dog_data['AnimalBirthYear'] = pd.to_numeric(dog_data['AnimalBirthYear'], errors='coerce')\n",
    "\n",
    "#exploring the total missing values in each column\n",
    "print(dog_data.isnull().sum())"
   ]
  },
  {
   "cell_type": "code",
   "execution_count": 23,
   "id": "5da9bee7-9e03-41ff-9ad8-ae61f67bfaaf",
   "metadata": {},
   "outputs": [
    {
     "data": {
      "text/plain": [
       "AnimalName            498\n",
       "AnimalGender            0\n",
       "AnimalBirthYear         9\n",
       "BreedName               0\n",
       "ZipCode                 0\n",
       "LicenseIssuedDate       0\n",
       "LicenseExpiredDate      0\n",
       "Extract Year            0\n",
       "dtype: int64"
      ]
     },
     "execution_count": 23,
     "metadata": {},
     "output_type": "execute_result"
    }
   ],
   "source": [
    "# I have chosen to drop the missing values\n",
    "dog_data.dropna(subset=['LicenseIssuedDate', 'LicenseExpiredDate'], inplace=True)\n",
    "dog_data.dropna(subset=['AnimalGender'], inplace=True)\n",
    "dog_data.dropna(subset=['ZipCode'], inplace=True)\n",
    "\n",
    "dog_data.isnull().sum()"
   ]
  },
  {
   "cell_type": "code",
   "execution_count": 25,
   "id": "ff6ab64d-e74e-4b2e-8b0e-16cf2d4d2cfc",
   "metadata": {},
   "outputs": [
    {
     "name": "stderr",
     "output_type": "stream",
     "text": [
      "C:\\Users\\cshar\\AppData\\Local\\Temp\\ipykernel_13176\\1515028959.py:2: FutureWarning: A value is trying to be set on a copy of a DataFrame or Series through chained assignment using an inplace method.\n",
      "The behavior will change in pandas 3.0. This inplace method will never work because the intermediate object on which we are setting values always behaves as a copy.\n",
      "\n",
      "For example, when doing 'df[col].method(value, inplace=True)', try using 'df.method({col: value}, inplace=True)' or df[col] = df[col].method(value) instead, to perform the operation inplace on the original object.\n",
      "\n",
      "\n",
      "  dog_data['AnimalName'].fillna('Unknown', inplace=True)\n"
     ]
    },
    {
     "data": {
      "text/plain": [
       "AnimalName            0\n",
       "AnimalGender          0\n",
       "AnimalBirthYear       0\n",
       "BreedName             0\n",
       "ZipCode               0\n",
       "LicenseIssuedDate     0\n",
       "LicenseExpiredDate    0\n",
       "Extract Year          0\n",
       "dtype: int64"
      ]
     },
     "execution_count": 25,
     "metadata": {},
     "output_type": "execute_result"
    }
   ],
   "source": [
    "#Converting the missing values with an 'unknown' value\n",
    "dog_data['AnimalName'].fillna('Unknown', inplace=True)\n",
    "\n",
    "# dropping the few birth year values\n",
    "dog_data.dropna(subset=['AnimalBirthYear'], inplace=True)\n",
    "\n",
    "dog_data.isnull().sum()"
   ]
  },
  {
   "cell_type": "code",
   "execution_count": null,
   "id": "2283ae57-d060-4907-8eb9-8e1f3b5b84e8",
   "metadata": {},
   "outputs": [],
   "source": []
  }
 ],
 "metadata": {
  "kernelspec": {
   "display_name": "Python 3 (ipykernel)",
   "language": "python",
   "name": "python3"
  },
  "language_info": {
   "codemirror_mode": {
    "name": "ipython",
    "version": 3
   },
   "file_extension": ".py",
   "mimetype": "text/x-python",
   "name": "python",
   "nbconvert_exporter": "python",
   "pygments_lexer": "ipython3",
   "version": "3.12.7"
  }
 },
 "nbformat": 4,
 "nbformat_minor": 5
}
